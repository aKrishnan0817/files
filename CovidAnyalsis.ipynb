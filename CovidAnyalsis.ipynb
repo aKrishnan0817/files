{
 "cells": [
  {
   "cell_type": "code",
   "execution_count": 2,
   "metadata": {},
   "outputs": [],
   "source": [
    "def toIntList(test_list):\n",
    "    for i in range(0, len(test_list)): \n",
    "        test_list[i] = int(test_list[i]) \n",
    "    return test_list"
   ]
  },
  {
   "cell_type": "code",
   "execution_count": 3,
   "metadata": {},
   "outputs": [],
   "source": [
    "import pandas as pd\n",
    "import numpy as np\n",
    "import matplotlib\n",
    "import matplotlib.pyplot as plt\n",
    "import numpy as np\n",
    "import pandas as pd\n",
    "import sklearn.linear_model"
   ]
  },
  {
   "cell_type": "code",
   "execution_count": 4,
   "metadata": {},
   "outputs": [],
   "source": [
    "raceEthnicity = pd.read_csv('COVID-19_Cases_and_Deaths_by_Race_Ethnicity.csv')"
   ]
  },
  {
   "cell_type": "code",
   "execution_count": 19,
   "metadata": {},
   "outputs": [
    {
     "data": {
      "text/html": [
       "<div>\n",
       "<style scoped>\n",
       "    .dataframe tbody tr th:only-of-type {\n",
       "        vertical-align: middle;\n",
       "    }\n",
       "\n",
       "    .dataframe tbody tr th {\n",
       "        vertical-align: top;\n",
       "    }\n",
       "\n",
       "    .dataframe thead th {\n",
       "        text-align: right;\n",
       "    }\n",
       "</style>\n",
       "<table border=\"1\" class=\"dataframe\">\n",
       "  <thead>\n",
       "    <tr style=\"text-align: right;\">\n",
       "      <th></th>\n",
       "      <th>Date updated</th>\n",
       "      <th>Race/ethnicity</th>\n",
       "      <th>Total population</th>\n",
       "      <th>Total cases</th>\n",
       "      <th>Crude case rate per 100k</th>\n",
       "      <th>Age adjusted case rate per 100k</th>\n",
       "      <th>Total deaths</th>\n",
       "      <th>Crude death rate per 100k</th>\n",
       "      <th>Age adjusted death rate per 100k</th>\n",
       "    </tr>\n",
       "  </thead>\n",
       "  <tbody>\n",
       "    <tr>\n",
       "      <th>0</th>\n",
       "      <td>04/20/2020</td>\n",
       "      <td>Hispanic</td>\n",
       "      <td>589809.0</td>\n",
       "      <td>2269</td>\n",
       "      <td>385.0</td>\n",
       "      <td>NaN</td>\n",
       "      <td>109</td>\n",
       "      <td>18.0</td>\n",
       "      <td>NaN</td>\n",
       "    </tr>\n",
       "    <tr>\n",
       "      <th>1</th>\n",
       "      <td>04/20/2020</td>\n",
       "      <td>NH Asian</td>\n",
       "      <td>187532.0</td>\n",
       "      <td>215</td>\n",
       "      <td>115.0</td>\n",
       "      <td>NaN</td>\n",
       "      <td>14</td>\n",
       "      <td>7.0</td>\n",
       "      <td>NaN</td>\n",
       "    </tr>\n",
       "    <tr>\n",
       "      <th>2</th>\n",
       "      <td>04/20/2020</td>\n",
       "      <td>NH Black</td>\n",
       "      <td>387134.0</td>\n",
       "      <td>1823</td>\n",
       "      <td>471.0</td>\n",
       "      <td>NaN</td>\n",
       "      <td>184</td>\n",
       "      <td>48.0</td>\n",
       "      <td>NaN</td>\n",
       "    </tr>\n",
       "    <tr>\n",
       "      <th>3</th>\n",
       "      <td>04/20/2020</td>\n",
       "      <td>NH Other</td>\n",
       "      <td>0.0</td>\n",
       "      <td>118</td>\n",
       "      <td>0.0</td>\n",
       "      <td>NaN</td>\n",
       "      <td>11</td>\n",
       "      <td>0.0</td>\n",
       "      <td>NaN</td>\n",
       "    </tr>\n",
       "    <tr>\n",
       "      <th>4</th>\n",
       "      <td>04/20/2020</td>\n",
       "      <td>NH White</td>\n",
       "      <td>2408190.0</td>\n",
       "      <td>5101</td>\n",
       "      <td>212.0</td>\n",
       "      <td>NaN</td>\n",
       "      <td>845</td>\n",
       "      <td>35.0</td>\n",
       "      <td>NaN</td>\n",
       "    </tr>\n",
       "    <tr>\n",
       "      <th>...</th>\n",
       "      <td>...</td>\n",
       "      <td>...</td>\n",
       "      <td>...</td>\n",
       "      <td>...</td>\n",
       "      <td>...</td>\n",
       "      <td>...</td>\n",
       "      <td>...</td>\n",
       "      <td>...</td>\n",
       "      <td>...</td>\n",
       "    </tr>\n",
       "    <tr>\n",
       "      <th>1137</th>\n",
       "      <td>11/19/2020</td>\n",
       "      <td>NH Black</td>\n",
       "      <td>387134.0</td>\n",
       "      <td>9786</td>\n",
       "      <td>2527.0</td>\n",
       "      <td>2536.0</td>\n",
       "      <td>699</td>\n",
       "      <td>181.0</td>\n",
       "      <td>211.0</td>\n",
       "    </tr>\n",
       "    <tr>\n",
       "      <th>1138</th>\n",
       "      <td>11/19/2020</td>\n",
       "      <td>NH Multiracial</td>\n",
       "      <td>NaN</td>\n",
       "      <td>1154</td>\n",
       "      <td>NaN</td>\n",
       "      <td>NaN</td>\n",
       "      <td>38</td>\n",
       "      <td>NaN</td>\n",
       "      <td>NaN</td>\n",
       "    </tr>\n",
       "    <tr>\n",
       "      <th>1139</th>\n",
       "      <td>11/19/2020</td>\n",
       "      <td>NH Other</td>\n",
       "      <td>NaN</td>\n",
       "      <td>2287</td>\n",
       "      <td>NaN</td>\n",
       "      <td>NaN</td>\n",
       "      <td>24</td>\n",
       "      <td>NaN</td>\n",
       "      <td>NaN</td>\n",
       "    </tr>\n",
       "    <tr>\n",
       "      <th>1140</th>\n",
       "      <td>11/19/2020</td>\n",
       "      <td>NH White</td>\n",
       "      <td>2408190.0</td>\n",
       "      <td>32839</td>\n",
       "      <td>1363.0</td>\n",
       "      <td>1183.0</td>\n",
       "      <td>3527</td>\n",
       "      <td>146.0</td>\n",
       "      <td>80.0</td>\n",
       "    </tr>\n",
       "    <tr>\n",
       "      <th>1141</th>\n",
       "      <td>11/19/2020</td>\n",
       "      <td>Unknown</td>\n",
       "      <td>NaN</td>\n",
       "      <td>35036</td>\n",
       "      <td>NaN</td>\n",
       "      <td>NaN</td>\n",
       "      <td>44</td>\n",
       "      <td>NaN</td>\n",
       "      <td>NaN</td>\n",
       "    </tr>\n",
       "  </tbody>\n",
       "</table>\n",
       "<p>1142 rows × 9 columns</p>\n",
       "</div>"
      ],
      "text/plain": [
       "     Date updated  Race/ethnicity  Total population  Total cases  \\\n",
       "0      04/20/2020        Hispanic          589809.0         2269   \n",
       "1      04/20/2020        NH Asian          187532.0          215   \n",
       "2      04/20/2020        NH Black          387134.0         1823   \n",
       "3      04/20/2020        NH Other               0.0          118   \n",
       "4      04/20/2020        NH White         2408190.0         5101   \n",
       "...           ...             ...               ...          ...   \n",
       "1137   11/19/2020        NH Black          387134.0         9786   \n",
       "1138   11/19/2020  NH Multiracial               NaN         1154   \n",
       "1139   11/19/2020        NH Other               NaN         2287   \n",
       "1140   11/19/2020        NH White         2408190.0        32839   \n",
       "1141   11/19/2020         Unknown               NaN        35036   \n",
       "\n",
       "      Crude case rate per 100k  Age adjusted case rate per 100k  Total deaths  \\\n",
       "0                        385.0                              NaN           109   \n",
       "1                        115.0                              NaN            14   \n",
       "2                        471.0                              NaN           184   \n",
       "3                          0.0                              NaN            11   \n",
       "4                        212.0                              NaN           845   \n",
       "...                        ...                              ...           ...   \n",
       "1137                    2527.0                           2536.0           699   \n",
       "1138                       NaN                              NaN            38   \n",
       "1139                       NaN                              NaN            24   \n",
       "1140                    1363.0                           1183.0          3527   \n",
       "1141                       NaN                              NaN            44   \n",
       "\n",
       "      Crude death rate per 100k  Age adjusted death rate per 100k  \n",
       "0                          18.0                               NaN  \n",
       "1                           7.0                               NaN  \n",
       "2                          48.0                               NaN  \n",
       "3                           0.0                               NaN  \n",
       "4                          35.0                               NaN  \n",
       "...                         ...                               ...  \n",
       "1137                      181.0                             211.0  \n",
       "1138                        NaN                               NaN  \n",
       "1139                        NaN                               NaN  \n",
       "1140                      146.0                              80.0  \n",
       "1141                        NaN                               NaN  \n",
       "\n",
       "[1142 rows x 9 columns]"
      ]
     },
     "execution_count": 19,
     "metadata": {},
     "output_type": "execute_result"
    }
   ],
   "source": [
    "raceEthnicity"
   ]
  },
  {
   "cell_type": "code",
   "execution_count": 5,
   "metadata": {},
   "outputs": [],
   "source": [
    "IncomeData = pd.read_csv('IncomeData.csv', header=None)\n",
    "CtTowns = pd.read_csv('COVID-19_Tests__Cases__and_Deaths__By_Town_.csv',index_col=2)\n",
    "popTowns = pd.read_csv('pop_towns2019.csv',index_col =0 )"
   ]
  },
  {
   "cell_type": "markdown",
   "metadata": {},
   "source": [
    "# Income Data of Towns in CT\n",
    "- I was able to get Income Data of Ct from 'portal.ct.gov' but the latest data is back from 2015. I think that the Income couldve changed in the towns a fair bit but not too much that would render this data useless. I personally believe this data will work just fine.\n",
    "- The Data has 4 columns: Towns, Median household income, Mean household income and Per capita income. Personally I am most intresterd in the per capita income becausue it shows how much every person in the household has to spend on thing i.e. medical bills for Covid-19. I'm still going to go through all of the columns incase I see varying results\n"
   ]
  },
  {
   "cell_type": "code",
   "execution_count": 6,
   "metadata": {},
   "outputs": [],
   "source": [
    "IncomeData.columns = IncomeData.iloc[4]"
   ]
  },
  {
   "cell_type": "code",
   "execution_count": 7,
   "metadata": {},
   "outputs": [],
   "source": [
    "IncomeData = IncomeData[6:]"
   ]
  },
  {
   "cell_type": "code",
   "execution_count": 8,
   "metadata": {},
   "outputs": [
    {
     "data": {
      "text/html": [
       "<div>\n",
       "<style scoped>\n",
       "    .dataframe tbody tr th:only-of-type {\n",
       "        vertical-align: middle;\n",
       "    }\n",
       "\n",
       "    .dataframe tbody tr th {\n",
       "        vertical-align: top;\n",
       "    }\n",
       "\n",
       "    .dataframe thead th {\n",
       "        text-align: right;\n",
       "    }\n",
       "</style>\n",
       "<table border=\"1\" class=\"dataframe\">\n",
       "  <thead>\n",
       "    <tr style=\"text-align: right;\">\n",
       "      <th>4</th>\n",
       "      <th>Towns</th>\n",
       "      <th>MedianHouseholdIncome</th>\n",
       "      <th>MeanHouseholdIncome</th>\n",
       "      <th>PerCapitaIncome</th>\n",
       "    </tr>\n",
       "  </thead>\n",
       "  <tbody>\n",
       "    <tr>\n",
       "      <th>6</th>\n",
       "      <td>Andover</td>\n",
       "      <td>100321</td>\n",
       "      <td>111230</td>\n",
       "      <td>40182</td>\n",
       "    </tr>\n",
       "    <tr>\n",
       "      <th>7</th>\n",
       "      <td>Ansonia</td>\n",
       "      <td>43305</td>\n",
       "      <td>62858</td>\n",
       "      <td>24359</td>\n",
       "    </tr>\n",
       "    <tr>\n",
       "      <th>8</th>\n",
       "      <td>Ashford</td>\n",
       "      <td>77870</td>\n",
       "      <td>95339</td>\n",
       "      <td>39139</td>\n",
       "    </tr>\n",
       "    <tr>\n",
       "      <th>9</th>\n",
       "      <td>Avon</td>\n",
       "      <td>123894</td>\n",
       "      <td>172245</td>\n",
       "      <td>66822</td>\n",
       "    </tr>\n",
       "    <tr>\n",
       "      <th>10</th>\n",
       "      <td>Barkhamsted</td>\n",
       "      <td>95735</td>\n",
       "      <td>102210</td>\n",
       "      <td>40156</td>\n",
       "    </tr>\n",
       "    <tr>\n",
       "      <th>11</th>\n",
       "      <td>Beacon Falls</td>\n",
       "      <td>83155</td>\n",
       "      <td>94002</td>\n",
       "      <td>37736</td>\n",
       "    </tr>\n",
       "    <tr>\n",
       "      <th>12</th>\n",
       "      <td>Berlin</td>\n",
       "      <td>87810</td>\n",
       "      <td>104448</td>\n",
       "      <td>40865</td>\n",
       "    </tr>\n",
       "    <tr>\n",
       "      <th>13</th>\n",
       "      <td>Bethany</td>\n",
       "      <td>97254</td>\n",
       "      <td>112461</td>\n",
       "      <td>42397</td>\n",
       "    </tr>\n",
       "    <tr>\n",
       "      <th>14</th>\n",
       "      <td>Bethel</td>\n",
       "      <td>92125</td>\n",
       "      <td>113515</td>\n",
       "      <td>43569</td>\n",
       "    </tr>\n",
       "    <tr>\n",
       "      <th>15</th>\n",
       "      <td>Bethlehem</td>\n",
       "      <td>84306</td>\n",
       "      <td>114218</td>\n",
       "      <td>43516</td>\n",
       "    </tr>\n",
       "  </tbody>\n",
       "</table>\n",
       "</div>"
      ],
      "text/plain": [
       "4          Towns MedianHouseholdIncome MeanHouseholdIncome PerCapitaIncome\n",
       "6        Andover                100321              111230           40182\n",
       "7        Ansonia                 43305               62858           24359\n",
       "8        Ashford                 77870               95339           39139\n",
       "9           Avon                123894              172245           66822\n",
       "10   Barkhamsted                 95735              102210           40156\n",
       "11  Beacon Falls                 83155               94002           37736\n",
       "12        Berlin                 87810              104448           40865\n",
       "13       Bethany                 97254              112461           42397\n",
       "14        Bethel                 92125              113515           43569\n",
       "15     Bethlehem                 84306              114218           43516"
      ]
     },
     "execution_count": 8,
     "metadata": {},
     "output_type": "execute_result"
    }
   ],
   "source": [
    "IncomeData.head(10)"
   ]
  },
  {
   "cell_type": "code",
   "execution_count": 9,
   "metadata": {},
   "outputs": [
    {
     "data": {
      "text/plain": [
       "6      40182\n",
       "7      24359\n",
       "8      39139\n",
       "9      66822\n",
       "10     40156\n",
       "       ...  \n",
       "170    34035\n",
       "171    34468\n",
       "172    58594\n",
       "173    46853\n",
       "174    35502\n",
       "Name: PerCapitaIncome, Length: 169, dtype: object"
      ]
     },
     "execution_count": 9,
     "metadata": {},
     "output_type": "execute_result"
    }
   ],
   "source": [
    "IncomeData['PerCapitaIncome']"
   ]
  },
  {
   "cell_type": "code",
   "execution_count": 10,
   "metadata": {},
   "outputs": [],
   "source": [
    "CtTownsClean = CtTowns.loc[CtTowns['LastUpdateDate'] == '11/19/2020']"
   ]
  },
  {
   "cell_type": "code",
   "execution_count": 11,
   "metadata": {},
   "outputs": [],
   "source": [
    "per1kCases = []\n",
    "for x,y in popTowns.iterrows():\n",
    "    per1kCases.append(CtTownsClean.loc[x]['TotalCases']/(int(popTowns.loc[x])/1000))"
   ]
  },
  {
   "cell_type": "code",
   "execution_count": 12,
   "metadata": {},
   "outputs": [],
   "source": [
    "per1kDeaths = []\n",
    "for x,y in popTowns.iterrows():\n",
    "    per1kDeaths.append(CtTownsClean.loc[x]['TotalDeaths']/(int(popTowns.loc[x])/1000))"
   ]
  },
  {
   "cell_type": "code",
   "execution_count": 13,
   "metadata": {},
   "outputs": [],
   "source": [
    "CtData = pd.DataFrame({'Town':list(IncomeData['Towns']),'PerCapitaIncome':toIntList(list(IncomeData['PerCapitaIncome'])),\n",
    "                      'MedianIncome':toIntList(list(IncomeData['MedianHouseholdIncome'])),\n",
    "                                           'MeanIncome':toIntList(list(IncomeData['MeanHouseholdIncome'])),\n",
    "                                          'Per1kCases':per1kCases,'Per1kDeaths':per1kDeaths})"
   ]
  },
  {
   "cell_type": "code",
   "execution_count": 14,
   "metadata": {},
   "outputs": [
    {
     "data": {
      "text/html": [
       "<div>\n",
       "<style scoped>\n",
       "    .dataframe tbody tr th:only-of-type {\n",
       "        vertical-align: middle;\n",
       "    }\n",
       "\n",
       "    .dataframe tbody tr th {\n",
       "        vertical-align: top;\n",
       "    }\n",
       "\n",
       "    .dataframe thead th {\n",
       "        text-align: right;\n",
       "    }\n",
       "</style>\n",
       "<table border=\"1\" class=\"dataframe\">\n",
       "  <thead>\n",
       "    <tr style=\"text-align: right;\">\n",
       "      <th></th>\n",
       "      <th>PerCapitaIncome</th>\n",
       "      <th>MedianIncome</th>\n",
       "      <th>MeanIncome</th>\n",
       "      <th>Per1kCases</th>\n",
       "      <th>Per1kDeaths</th>\n",
       "    </tr>\n",
       "    <tr>\n",
       "      <th>Town</th>\n",
       "      <th></th>\n",
       "      <th></th>\n",
       "      <th></th>\n",
       "      <th></th>\n",
       "      <th></th>\n",
       "    </tr>\n",
       "  </thead>\n",
       "  <tbody>\n",
       "    <tr>\n",
       "      <th>Andover</th>\n",
       "      <td>40182</td>\n",
       "      <td>100321</td>\n",
       "      <td>111230</td>\n",
       "      <td>8.961681</td>\n",
       "      <td>0.000000</td>\n",
       "    </tr>\n",
       "    <tr>\n",
       "      <th>Ansonia</th>\n",
       "      <td>24359</td>\n",
       "      <td>43305</td>\n",
       "      <td>62858</td>\n",
       "      <td>32.647153</td>\n",
       "      <td>0.536078</td>\n",
       "    </tr>\n",
       "    <tr>\n",
       "      <th>Ashford</th>\n",
       "      <td>39139</td>\n",
       "      <td>77870</td>\n",
       "      <td>95339</td>\n",
       "      <td>9.870740</td>\n",
       "      <td>0.470035</td>\n",
       "    </tr>\n",
       "    <tr>\n",
       "      <th>Avon</th>\n",
       "      <td>66822</td>\n",
       "      <td>123894</td>\n",
       "      <td>172245</td>\n",
       "      <td>18.986649</td>\n",
       "      <td>2.790545</td>\n",
       "    </tr>\n",
       "    <tr>\n",
       "      <th>Barkhamsted</th>\n",
       "      <td>40156</td>\n",
       "      <td>95735</td>\n",
       "      <td>102210</td>\n",
       "      <td>13.865779</td>\n",
       "      <td>0.000000</td>\n",
       "    </tr>\n",
       "    <tr>\n",
       "      <th>...</th>\n",
       "      <td>...</td>\n",
       "      <td>...</td>\n",
       "      <td>...</td>\n",
       "      <td>...</td>\n",
       "      <td>...</td>\n",
       "    </tr>\n",
       "    <tr>\n",
       "      <th>Windsor Locks</th>\n",
       "      <td>34035</td>\n",
       "      <td>68944</td>\n",
       "      <td>82986</td>\n",
       "      <td>20.382760</td>\n",
       "      <td>1.711529</td>\n",
       "    </tr>\n",
       "    <tr>\n",
       "      <th>Wolcott</th>\n",
       "      <td>34468</td>\n",
       "      <td>80323</td>\n",
       "      <td>95089</td>\n",
       "      <td>26.828239</td>\n",
       "      <td>0.542594</td>\n",
       "    </tr>\n",
       "    <tr>\n",
       "      <th>Woodbridge</th>\n",
       "      <td>58594</td>\n",
       "      <td>133412</td>\n",
       "      <td>166416</td>\n",
       "      <td>23.657143</td>\n",
       "      <td>3.885714</td>\n",
       "    </tr>\n",
       "    <tr>\n",
       "      <th>Woodbury</th>\n",
       "      <td>46853</td>\n",
       "      <td>80350</td>\n",
       "      <td>110669</td>\n",
       "      <td>16.101873</td>\n",
       "      <td>0.210482</td>\n",
       "    </tr>\n",
       "    <tr>\n",
       "      <th>Woodstock</th>\n",
       "      <td>35502</td>\n",
       "      <td>78594</td>\n",
       "      <td>89652</td>\n",
       "      <td>9.671672</td>\n",
       "      <td>0.000000</td>\n",
       "    </tr>\n",
       "  </tbody>\n",
       "</table>\n",
       "<p>169 rows × 5 columns</p>\n",
       "</div>"
      ],
      "text/plain": [
       "               PerCapitaIncome  MedianIncome  MeanIncome  Per1kCases  \\\n",
       "Town                                                                   \n",
       "Andover                  40182        100321      111230    8.961681   \n",
       "Ansonia                  24359         43305       62858   32.647153   \n",
       "Ashford                  39139         77870       95339    9.870740   \n",
       "Avon                     66822        123894      172245   18.986649   \n",
       "Barkhamsted              40156         95735      102210   13.865779   \n",
       "...                        ...           ...         ...         ...   \n",
       "Windsor Locks            34035         68944       82986   20.382760   \n",
       "Wolcott                  34468         80323       95089   26.828239   \n",
       "Woodbridge               58594        133412      166416   23.657143   \n",
       "Woodbury                 46853         80350      110669   16.101873   \n",
       "Woodstock                35502         78594       89652    9.671672   \n",
       "\n",
       "               Per1kDeaths  \n",
       "Town                        \n",
       "Andover           0.000000  \n",
       "Ansonia           0.536078  \n",
       "Ashford           0.470035  \n",
       "Avon              2.790545  \n",
       "Barkhamsted       0.000000  \n",
       "...                    ...  \n",
       "Windsor Locks     1.711529  \n",
       "Wolcott           0.542594  \n",
       "Woodbridge        3.885714  \n",
       "Woodbury          0.210482  \n",
       "Woodstock         0.000000  \n",
       "\n",
       "[169 rows x 5 columns]"
      ]
     },
     "execution_count": 14,
     "metadata": {},
     "output_type": "execute_result"
    }
   ],
   "source": [
    "CtData.set_index('Town')"
   ]
  },
  {
   "cell_type": "code",
   "execution_count": 15,
   "metadata": {},
   "outputs": [
    {
     "data": {
      "image/png": "[encoded data removed]",
      "text/plain": [
       "<Figure size 432x288 with 1 Axes>"
      ]
     },
     "metadata": {
      "needs_background": "light"
     },
     "output_type": "display_data"
    }
   ],
   "source": [
    "plt.plot(CtData['PerCapitaIncome'],CtData['Per1kCases'],'o')\n",
    "plt.show()"
   ]
  },
  {
   "cell_type": "code",
   "execution_count": 16,
   "metadata": {},
   "outputs": [
    {
     "data": {
      "image/png": "[encoded data removed]",
      "text/plain": [
       "<Figure size 432x288 with 1 Axes>"
      ]
     },
     "metadata": {
      "needs_background": "light"
     },
     "output_type": "display_data"
    }
   ],
   "source": [
    "plt.plot(CtData['MedianIncome'],CtData['Per1kCases'],'o')\n",
    "plt.show()"
   ]
  },
  {
   "cell_type": "code",
   "execution_count": 18,
   "metadata": {},
   "outputs": [
    {
     "data": {
      "image/png": "[encoded data removed]",
      "text/plain": [
       "<Figure size 432x288 with 1 Axes>"
      ]
     },
     "metadata": {
      "needs_background": "light"
     },
     "output_type": "display_data"
    }
   ],
   "source": [
    "plt.plot(CtData['MeanIncome'],CtData['Per1kCases'],'o')\n",
    "plt.show()"
   ]
  },
  {
   "cell_type": "code",
   "execution_count": 210,
   "metadata": {},
   "outputs": [
    {
     "data": {
      "image/png": "[encoded data removed]",
      "text/plain": [
       "<Figure size 432x288 with 1 Axes>"
      ]
     },
     "metadata": {
      "needs_background": "light"
     },
     "output_type": "display_data"
    }
   ],
   "source": [
    "plt.plot(CtData['PerCapitaIncome'],CtData['Per1kDeaths'],'o')\n",
    "plt.show()"
   ]
  },
  {
   "cell_type": "code",
   "execution_count": 211,
   "metadata": {},
   "outputs": [
    {
     "data": {
      "image/png": "[encoded data removed]",
      "text/plain": [
       "<Figure size 432x288 with 1 Axes>"
      ]
     },
     "metadata": {
      "needs_background": "light"
     },
     "output_type": "display_data"
    }
   ],
   "source": [
    "plt.plot(CtData['MedianIncome'],CtData['Per1kDeaths'],'o')\n",
    "plt.show()"
   ]
  },
  {
   "cell_type": "code",
   "execution_count": 212,
   "metadata": {},
   "outputs": [
    {
     "data": {
      "image/png": "[encoded data removed]",
      "text/plain": [
       "<Figure size 432x288 with 1 Axes>"
      ]
     },
     "metadata": {
      "needs_background": "light"
     },
     "output_type": "display_data"
    }
   ],
   "source": [
    "plt.plot(CtData['MeanIncome'],CtData['Per1kDeaths'],'o')\n",
    "plt.show()"
   ]
  }
 ],
 "metadata": {
  "kernelspec": {
   "display_name": "Python 3",
   "language": "python",
   "name": "python3"
  },
  "language_info": {
   "codemirror_mode": {
    "name": "ipython",
    "version": 3
   },
   "file_extension": ".py",
   "mimetype": "text/x-python",
   "name": "python",
   "nbconvert_exporter": "python",
   "pygments_lexer": "ipython3",
   "version": "3.8.3"
  }
 },
 "nbformat": 4,
 "nbformat_minor": 4
}
